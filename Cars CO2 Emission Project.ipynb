{
 "cells": [
  {
   "cell_type": "markdown",
   "id": "e0768bbc",
   "metadata": {},
   "source": [
    "Challenge I: Help your colleague gain insights on the type of vehicles that have lower CO2 emissions. Include:\n",
    "- What is the median engine size in liters?\n",
    "- What is the average fuel consumption for regular gasoline (Fuel Type = X), premium gasoline (Z), ethanol (E), and diesel (D)?\n",
    "- What is the correlation between fuel consumption and CO2 emissions?\n",
    "- Which vehicle class has lower average CO2 emissions, 'SUV - SMALL' or 'MID-SIZE'?\n",
    "- What are the average CO2 emissions for all vehicles? For vehicles with an engine size of 2.0 liters or smaller?\n",
    "- Any other insights you found during your analysis?\n"
   ]
  },
  {
   "cell_type": "code",
   "execution_count": 1,
   "id": "b4312ef8",
   "metadata": {},
   "outputs": [],
   "source": [
    "#Importing packages\n",
    "import pandas as pd\n",
    "import numpy as np\n",
    "import matplotlib.pyplot as plt\n",
    "import seaborn as sns"
   ]
  },
  {
   "cell_type": "code",
   "execution_count": 2,
   "id": "9aaddef6",
   "metadata": {},
   "outputs": [
    {
     "data": {
      "text/html": [
       "<div>\n",
       "<style scoped>\n",
       "    .dataframe tbody tr th:only-of-type {\n",
       "        vertical-align: middle;\n",
       "    }\n",
       "\n",
       "    .dataframe tbody tr th {\n",
       "        vertical-align: top;\n",
       "    }\n",
       "\n",
       "    .dataframe thead th {\n",
       "        text-align: right;\n",
       "    }\n",
       "</style>\n",
       "<table border=\"1\" class=\"dataframe\">\n",
       "  <thead>\n",
       "    <tr style=\"text-align: right;\">\n",
       "      <th></th>\n",
       "      <th>Make</th>\n",
       "      <th>Model</th>\n",
       "      <th>Vehicle Class</th>\n",
       "      <th>Engine Size(L)</th>\n",
       "      <th>Cylinders</th>\n",
       "      <th>Transmission</th>\n",
       "      <th>Fuel Type</th>\n",
       "      <th>Fuel Consumption Comb (L/100 km)</th>\n",
       "      <th>CO2 Emissions(g/km)</th>\n",
       "    </tr>\n",
       "  </thead>\n",
       "  <tbody>\n",
       "    <tr>\n",
       "      <th>0</th>\n",
       "      <td>ACURA</td>\n",
       "      <td>ILX</td>\n",
       "      <td>COMPACT</td>\n",
       "      <td>2.0</td>\n",
       "      <td>4</td>\n",
       "      <td>AS5</td>\n",
       "      <td>Z</td>\n",
       "      <td>8.5</td>\n",
       "      <td>196</td>\n",
       "    </tr>\n",
       "    <tr>\n",
       "      <th>1</th>\n",
       "      <td>ACURA</td>\n",
       "      <td>ILX</td>\n",
       "      <td>COMPACT</td>\n",
       "      <td>2.4</td>\n",
       "      <td>4</td>\n",
       "      <td>M6</td>\n",
       "      <td>Z</td>\n",
       "      <td>9.6</td>\n",
       "      <td>221</td>\n",
       "    </tr>\n",
       "    <tr>\n",
       "      <th>2</th>\n",
       "      <td>ACURA</td>\n",
       "      <td>ILX HYBRID</td>\n",
       "      <td>COMPACT</td>\n",
       "      <td>1.5</td>\n",
       "      <td>4</td>\n",
       "      <td>AV7</td>\n",
       "      <td>Z</td>\n",
       "      <td>5.9</td>\n",
       "      <td>136</td>\n",
       "    </tr>\n",
       "    <tr>\n",
       "      <th>3</th>\n",
       "      <td>ACURA</td>\n",
       "      <td>MDX 4WD</td>\n",
       "      <td>SUV - SMALL</td>\n",
       "      <td>3.5</td>\n",
       "      <td>6</td>\n",
       "      <td>AS6</td>\n",
       "      <td>Z</td>\n",
       "      <td>11.1</td>\n",
       "      <td>255</td>\n",
       "    </tr>\n",
       "    <tr>\n",
       "      <th>4</th>\n",
       "      <td>ACURA</td>\n",
       "      <td>RDX AWD</td>\n",
       "      <td>SUV - SMALL</td>\n",
       "      <td>3.5</td>\n",
       "      <td>6</td>\n",
       "      <td>AS6</td>\n",
       "      <td>Z</td>\n",
       "      <td>10.6</td>\n",
       "      <td>244</td>\n",
       "    </tr>\n",
       "    <tr>\n",
       "      <th>...</th>\n",
       "      <td>...</td>\n",
       "      <td>...</td>\n",
       "      <td>...</td>\n",
       "      <td>...</td>\n",
       "      <td>...</td>\n",
       "      <td>...</td>\n",
       "      <td>...</td>\n",
       "      <td>...</td>\n",
       "      <td>...</td>\n",
       "    </tr>\n",
       "    <tr>\n",
       "      <th>7380</th>\n",
       "      <td>VOLVO</td>\n",
       "      <td>XC40 T5 AWD</td>\n",
       "      <td>SUV - SMALL</td>\n",
       "      <td>2.0</td>\n",
       "      <td>4</td>\n",
       "      <td>AS8</td>\n",
       "      <td>Z</td>\n",
       "      <td>9.4</td>\n",
       "      <td>219</td>\n",
       "    </tr>\n",
       "    <tr>\n",
       "      <th>7381</th>\n",
       "      <td>VOLVO</td>\n",
       "      <td>XC60 T5 AWD</td>\n",
       "      <td>SUV - SMALL</td>\n",
       "      <td>2.0</td>\n",
       "      <td>4</td>\n",
       "      <td>AS8</td>\n",
       "      <td>Z</td>\n",
       "      <td>9.9</td>\n",
       "      <td>232</td>\n",
       "    </tr>\n",
       "    <tr>\n",
       "      <th>7382</th>\n",
       "      <td>VOLVO</td>\n",
       "      <td>XC60 T6 AWD</td>\n",
       "      <td>SUV - SMALL</td>\n",
       "      <td>2.0</td>\n",
       "      <td>4</td>\n",
       "      <td>AS8</td>\n",
       "      <td>Z</td>\n",
       "      <td>10.3</td>\n",
       "      <td>240</td>\n",
       "    </tr>\n",
       "    <tr>\n",
       "      <th>7383</th>\n",
       "      <td>VOLVO</td>\n",
       "      <td>XC90 T5 AWD</td>\n",
       "      <td>SUV - STANDARD</td>\n",
       "      <td>2.0</td>\n",
       "      <td>4</td>\n",
       "      <td>AS8</td>\n",
       "      <td>Z</td>\n",
       "      <td>9.9</td>\n",
       "      <td>232</td>\n",
       "    </tr>\n",
       "    <tr>\n",
       "      <th>7384</th>\n",
       "      <td>VOLVO</td>\n",
       "      <td>XC90 T6 AWD</td>\n",
       "      <td>SUV - STANDARD</td>\n",
       "      <td>2.0</td>\n",
       "      <td>4</td>\n",
       "      <td>AS8</td>\n",
       "      <td>Z</td>\n",
       "      <td>10.7</td>\n",
       "      <td>248</td>\n",
       "    </tr>\n",
       "  </tbody>\n",
       "</table>\n",
       "<p>7385 rows × 9 columns</p>\n",
       "</div>"
      ],
      "text/plain": [
       "       Make        Model   Vehicle Class  Engine Size(L)  Cylinders  \\\n",
       "0     ACURA          ILX         COMPACT             2.0          4   \n",
       "1     ACURA          ILX         COMPACT             2.4          4   \n",
       "2     ACURA   ILX HYBRID         COMPACT             1.5          4   \n",
       "3     ACURA      MDX 4WD     SUV - SMALL             3.5          6   \n",
       "4     ACURA      RDX AWD     SUV - SMALL             3.5          6   \n",
       "...     ...          ...             ...             ...        ...   \n",
       "7380  VOLVO  XC40 T5 AWD     SUV - SMALL             2.0          4   \n",
       "7381  VOLVO  XC60 T5 AWD     SUV - SMALL             2.0          4   \n",
       "7382  VOLVO  XC60 T6 AWD     SUV - SMALL             2.0          4   \n",
       "7383  VOLVO  XC90 T5 AWD  SUV - STANDARD             2.0          4   \n",
       "7384  VOLVO  XC90 T6 AWD  SUV - STANDARD             2.0          4   \n",
       "\n",
       "     Transmission Fuel Type  Fuel Consumption Comb (L/100 km)  \\\n",
       "0             AS5         Z                               8.5   \n",
       "1              M6         Z                               9.6   \n",
       "2             AV7         Z                               5.9   \n",
       "3             AS6         Z                              11.1   \n",
       "4             AS6         Z                              10.6   \n",
       "...           ...       ...                               ...   \n",
       "7380          AS8         Z                               9.4   \n",
       "7381          AS8         Z                               9.9   \n",
       "7382          AS8         Z                              10.3   \n",
       "7383          AS8         Z                               9.9   \n",
       "7384          AS8         Z                              10.7   \n",
       "\n",
       "      CO2 Emissions(g/km)  \n",
       "0                     196  \n",
       "1                     221  \n",
       "2                     136  \n",
       "3                     255  \n",
       "4                     244  \n",
       "...                   ...  \n",
       "7380                  219  \n",
       "7381                  232  \n",
       "7382                  240  \n",
       "7383                  232  \n",
       "7384                  248  \n",
       "\n",
       "[7385 rows x 9 columns]"
      ]
     },
     "execution_count": 2,
     "metadata": {},
     "output_type": "execute_result"
    }
   ],
   "source": [
    "#Importing the dataset\n",
    "cars =  pd.read_csv(\"C:\\\\Users\\\\dell\\\\Downloads\\\\co2_emissions_canada.csv\")\n",
    "cars"
   ]
  },
  {
   "cell_type": "code",
   "execution_count": 3,
   "id": "42a477db",
   "metadata": {},
   "outputs": [
    {
     "name": "stdout",
     "output_type": "stream",
     "text": [
      "<class 'pandas.core.frame.DataFrame'>\n",
      "RangeIndex: 7385 entries, 0 to 7384\n",
      "Data columns (total 9 columns):\n",
      " #   Column                            Non-Null Count  Dtype  \n",
      "---  ------                            --------------  -----  \n",
      " 0   Make                              7385 non-null   object \n",
      " 1   Model                             7385 non-null   object \n",
      " 2   Vehicle Class                     7385 non-null   object \n",
      " 3   Engine Size(L)                    7385 non-null   float64\n",
      " 4   Cylinders                         7385 non-null   int64  \n",
      " 5   Transmission                      7385 non-null   object \n",
      " 6   Fuel Type                         7385 non-null   object \n",
      " 7   Fuel Consumption Comb (L/100 km)  7385 non-null   float64\n",
      " 8   CO2 Emissions(g/km)               7385 non-null   int64  \n",
      "dtypes: float64(2), int64(2), object(5)\n",
      "memory usage: 519.4+ KB\n"
     ]
    }
   ],
   "source": [
    "cars.info() #The dataset is pretty clean"
   ]
  },
  {
   "cell_type": "code",
   "execution_count": 4,
   "id": "2e853df4",
   "metadata": {},
   "outputs": [
    {
     "data": {
      "text/html": [
       "<div>\n",
       "<style scoped>\n",
       "    .dataframe tbody tr th:only-of-type {\n",
       "        vertical-align: middle;\n",
       "    }\n",
       "\n",
       "    .dataframe tbody tr th {\n",
       "        vertical-align: top;\n",
       "    }\n",
       "\n",
       "    .dataframe thead th {\n",
       "        text-align: right;\n",
       "    }\n",
       "</style>\n",
       "<table border=\"1\" class=\"dataframe\">\n",
       "  <thead>\n",
       "    <tr style=\"text-align: right;\">\n",
       "      <th></th>\n",
       "      <th>Engine Size(L)</th>\n",
       "      <th>Cylinders</th>\n",
       "      <th>Fuel Consumption Comb (L/100 km)</th>\n",
       "      <th>CO2 Emissions(g/km)</th>\n",
       "    </tr>\n",
       "  </thead>\n",
       "  <tbody>\n",
       "    <tr>\n",
       "      <th>count</th>\n",
       "      <td>7385.000000</td>\n",
       "      <td>7385.000000</td>\n",
       "      <td>7385.000000</td>\n",
       "      <td>7385.000000</td>\n",
       "    </tr>\n",
       "    <tr>\n",
       "      <th>mean</th>\n",
       "      <td>3.160068</td>\n",
       "      <td>5.615030</td>\n",
       "      <td>10.975071</td>\n",
       "      <td>250.584699</td>\n",
       "    </tr>\n",
       "    <tr>\n",
       "      <th>std</th>\n",
       "      <td>1.354170</td>\n",
       "      <td>1.828307</td>\n",
       "      <td>2.892506</td>\n",
       "      <td>58.512679</td>\n",
       "    </tr>\n",
       "    <tr>\n",
       "      <th>min</th>\n",
       "      <td>0.900000</td>\n",
       "      <td>3.000000</td>\n",
       "      <td>4.100000</td>\n",
       "      <td>96.000000</td>\n",
       "    </tr>\n",
       "    <tr>\n",
       "      <th>25%</th>\n",
       "      <td>2.000000</td>\n",
       "      <td>4.000000</td>\n",
       "      <td>8.900000</td>\n",
       "      <td>208.000000</td>\n",
       "    </tr>\n",
       "    <tr>\n",
       "      <th>50%</th>\n",
       "      <td>3.000000</td>\n",
       "      <td>6.000000</td>\n",
       "      <td>10.600000</td>\n",
       "      <td>246.000000</td>\n",
       "    </tr>\n",
       "    <tr>\n",
       "      <th>75%</th>\n",
       "      <td>3.700000</td>\n",
       "      <td>6.000000</td>\n",
       "      <td>12.600000</td>\n",
       "      <td>288.000000</td>\n",
       "    </tr>\n",
       "    <tr>\n",
       "      <th>max</th>\n",
       "      <td>8.400000</td>\n",
       "      <td>16.000000</td>\n",
       "      <td>26.100000</td>\n",
       "      <td>522.000000</td>\n",
       "    </tr>\n",
       "  </tbody>\n",
       "</table>\n",
       "</div>"
      ],
      "text/plain": [
       "       Engine Size(L)    Cylinders  Fuel Consumption Comb (L/100 km)  \\\n",
       "count     7385.000000  7385.000000                       7385.000000   \n",
       "mean         3.160068     5.615030                         10.975071   \n",
       "std          1.354170     1.828307                          2.892506   \n",
       "min          0.900000     3.000000                          4.100000   \n",
       "25%          2.000000     4.000000                          8.900000   \n",
       "50%          3.000000     6.000000                         10.600000   \n",
       "75%          3.700000     6.000000                         12.600000   \n",
       "max          8.400000    16.000000                         26.100000   \n",
       "\n",
       "       CO2 Emissions(g/km)  \n",
       "count          7385.000000  \n",
       "mean            250.584699  \n",
       "std              58.512679  \n",
       "min              96.000000  \n",
       "25%             208.000000  \n",
       "50%             246.000000  \n",
       "75%             288.000000  \n",
       "max             522.000000  "
      ]
     },
     "execution_count": 4,
     "metadata": {},
     "output_type": "execute_result"
    }
   ],
   "source": [
    "cars.describe()"
   ]
  },
  {
   "cell_type": "code",
   "execution_count": 5,
   "id": "90e0d88c",
   "metadata": {},
   "outputs": [
    {
     "data": {
      "text/plain": [
       "array(['Z', 'D', 'X', 'E', 'N'], dtype=object)"
      ]
     },
     "execution_count": 5,
     "metadata": {},
     "output_type": "execute_result"
    }
   ],
   "source": [
    "cars['Fuel Type'].unique()\n"
   ]
  },
  {
   "cell_type": "code",
   "execution_count": 6,
   "id": "4924288a",
   "metadata": {},
   "outputs": [
    {
     "data": {
      "text/plain": [
       "3.0"
      ]
     },
     "execution_count": 6,
     "metadata": {},
     "output_type": "execute_result"
    }
   ],
   "source": [
    "# Question 1:What is the median engine size in liters?\n",
    "cars['Engine Size(L)'].median()"
   ]
  },
  {
   "cell_type": "code",
   "execution_count": 8,
   "id": "7c285d58",
   "metadata": {},
   "outputs": [
    {
     "data": {
      "text/plain": [
       "X    3637\n",
       "Z    3202\n",
       "E     370\n",
       "D     175\n",
       "N       1\n",
       "Name: Fuel Type, dtype: int64"
      ]
     },
     "execution_count": 8,
     "metadata": {},
     "output_type": "execute_result"
    }
   ],
   "source": [
    "# To find the value counts for Fuel type\n",
    "cars['Fuel Type'].value_counts()"
   ]
  },
  {
   "cell_type": "code",
   "execution_count": 13,
   "id": "a1d094ff",
   "metadata": {},
   "outputs": [
    {
     "data": {
      "text/plain": [
       "Fuel Type\n",
       "D     8.835429\n",
       "E    16.861351\n",
       "N    12.700000\n",
       "X    10.084575\n",
       "Z    11.422767\n",
       "Name: Fuel Consumption Comb (L/100 km), dtype: float64"
      ]
     },
     "execution_count": 13,
     "metadata": {},
     "output_type": "execute_result"
    }
   ],
   "source": [
    "#Question 2:What is the average fuel consumption for regular gasoline?\n",
    "cars.groupby(['Fuel Type'])['Fuel Consumption Comb (L/100 km)'].mean() #To find the average fuel consumption for each fuel type"
   ]
  },
  {
   "cell_type": "markdown",
   "id": "5caf4e29",
   "metadata": {},
   "source": [
    "#### N.B: From the above, it can be shown that the avaerage fuel consumption for regular gasoline(Z) is 11.42"
   ]
  },
  {
   "cell_type": "code",
   "execution_count": 14,
   "id": "73088223",
   "metadata": {},
   "outputs": [
    {
     "data": {
      "image/png": "[encoded data removed]",
      "text/plain": [
       "<Figure size 432x288 with 1 Axes>"
      ]
     },
     "metadata": {
      "needs_background": "light"
     },
     "output_type": "display_data"
    }
   ],
   "source": [
    "#Visualizing question 2\n",
    "avg_viz = cars.groupby(['Fuel Type'])['Fuel Consumption Comb (L/100 km)'].mean()\n",
    "avg_viz.plot(kind= 'bar') #to plot bar chart\n",
    "plt.ylabel('Fuel size')\n",
    "plt.xlabel('Fuel Consumption') #labelling the axis\n",
    "plt.show() #to show the chart"
   ]
  },
  {
   "cell_type": "code",
   "execution_count": 18,
   "id": "9f8276f6",
   "metadata": {},
   "outputs": [
    {
     "data": {
      "text/plain": [
       "<AxesSubplot:>"
      ]
     },
     "execution_count": 18,
     "metadata": {},
     "output_type": "execute_result"
    },
    {
     "data": {
      "image/png": "[encoded data removed]",
      "text/plain": [
       "<Figure size 432x288 with 2 Axes>"
      ]
     },
     "metadata": {
      "needs_background": "light"
     },
     "output_type": "display_data"
    }
   ],
   "source": [
    "#Question 3: What is the correlation between fuel consumption and CO2 emissions?\n",
    "cars.corr() #to show correlation between fuel consumption and CO2 emissions\n",
    "sns.heatmap(cars.corr(),cmap='RdBu', annot= True)"
   ]
  },
  {
   "cell_type": "markdown",
   "id": "23c598a4",
   "metadata": {},
   "source": [
    "#### N.B: The relationship between Fuel consumption and CO2 emmission is 0.92...this shows a high positive correlation"
   ]
  },
  {
   "cell_type": "code",
   "execution_count": 31,
   "id": "0953aee3",
   "metadata": {},
   "outputs": [
    {
     "data": {
      "text/plain": [
       "SUV - SMALL                 1217\n",
       "MID-SIZE                    1133\n",
       "COMPACT                     1022\n",
       "SUV - STANDARD               735\n",
       "FULL-SIZE                    639\n",
       "SUBCOMPACT                   606\n",
       "PICKUP TRUCK - STANDARD      538\n",
       "TWO-SEATER                   460\n",
       "MINICOMPACT                  326\n",
       "STATION WAGON - SMALL        252\n",
       "PICKUP TRUCK - SMALL         159\n",
       "MINIVAN                       80\n",
       "SPECIAL PURPOSE VEHICLE       77\n",
       "VAN - PASSENGER               66\n",
       "STATION WAGON - MID-SIZE      53\n",
       "VAN - CARGO                   22\n",
       "Name: Vehicle Class, dtype: int64"
      ]
     },
     "execution_count": 31,
     "metadata": {},
     "output_type": "execute_result"
    }
   ],
   "source": [
    "cars['Vehicle Class'].value_counts() #to show value counts for vehicle class"
   ]
  },
  {
   "cell_type": "code",
   "execution_count": 36,
   "id": "5f5d32bf",
   "metadata": {},
   "outputs": [
    {
     "data": {
      "image/png": "[encoded data removed]",
      "text/plain": [
       "<Figure size 432x288 with 1 Axes>"
      ]
     },
     "metadata": {
      "needs_background": "light"
     },
     "output_type": "display_data"
    }
   ],
   "source": [
    "#Question 4:Which vehicle class has lower average CO2 emissions, 'SUV - SMALL' or 'MID-SIZE'?\n",
    "avg_viz1 = cars.groupby(['Vehicle Class'])['CO2 Emissions(g/km)'].mean()\n",
    "avg_viz1.plot(kind= 'bar', fontsize= 10) #to show horizontal bar chart \n",
    "plt.ylabel('CO2 Emissions(g/km)')\n",
    "plt.xlabel('Vehicle Class')\n",
    "plt.show()"
   ]
  },
  {
   "cell_type": "markdown",
   "id": "bcdea14d",
   "metadata": {},
   "source": [
    "#### From the above chart it can be seen that 'Mid-size' has a lower CO2 Emissions than 'SUV-Small'"
   ]
  },
  {
   "cell_type": "code",
   "execution_count": 37,
   "id": "f97668e0",
   "metadata": {},
   "outputs": [
    {
     "data": {
      "text/plain": [
       "Make\n",
       "ACURA            223.652778\n",
       "ALFA ROMEO       224.900000\n",
       "ASTON MARTIN     339.617021\n",
       "AUDI             250.846154\n",
       "BENTLEY          362.934783\n",
       "BMW              254.007590\n",
       "BUGATTI          522.000000\n",
       "BUICK            233.058252\n",
       "CADILLAC         265.854430\n",
       "CHEVROLET        264.346939\n",
       "CHRYSLER         246.170455\n",
       "DODGE            276.361789\n",
       "FIAT             192.246575\n",
       "FORD             260.988854\n",
       "GENESIS          284.840000\n",
       "GMC              299.917683\n",
       "HONDA            190.219626\n",
       "HYUNDAI          208.871429\n",
       "INFINITI         254.064815\n",
       "JAGUAR           267.987500\n",
       "JEEP             250.342629\n",
       "KIA              214.294372\n",
       "LAMBORGHINI      400.780488\n",
       "LAND ROVER       287.647059\n",
       "LEXUS            241.112360\n",
       "LINCOLN          267.302083\n",
       "MASERATI         318.147541\n",
       "MAZDA            193.672222\n",
       "MERCEDES-BENZ    277.386635\n",
       "MINI             196.588235\n",
       "MITSUBISHI       200.505263\n",
       "NISSAN           236.864865\n",
       "PORSCHE          258.941489\n",
       "RAM              292.402062\n",
       "ROLLS-ROYCE      388.480000\n",
       "SCION            200.454545\n",
       "SMART            151.428571\n",
       "SRT              389.000000\n",
       "SUBARU           217.614286\n",
       "TOYOTA           224.424242\n",
       "VOLKSWAGEN       209.335025\n",
       "VOLVO            230.056452\n",
       "Name: CO2 Emissions(g/km), dtype: float64"
      ]
     },
     "execution_count": 37,
     "metadata": {},
     "output_type": "execute_result"
    }
   ],
   "source": [
    "#Question 5a:What are the average CO2 emissions for all vehicles?\n",
    "cars.groupby(['Make'])['CO2 Emissions(g/km)'].mean() #mean CO2 emission for all vehicle make"
   ]
  },
  {
   "cell_type": "code",
   "execution_count": 46,
   "id": "93bceaa6",
   "metadata": {},
   "outputs": [
    {
     "data": {
      "image/png": "[encoded data removed]",
      "text/plain": [
       "<Figure size 432x288 with 1 Axes>"
      ]
     },
     "metadata": {
      "needs_background": "light"
     },
     "output_type": "display_data"
    }
   ],
   "source": [
    "#Question 5b:For vehicles with an engine size of 2.0 liters or smaller?\n",
    "veh = cars.groupby(cars['Engine Size(L)']<=2.0)['CO2 Emissions(g/km)'].mean()\n",
    "veh.plot(kind='barh')\n",
    "plt.ylabel('CO2 Emissions(g/km)')\n",
    "plt.xlabel('Engine Size <2')\n",
    "plt.show()\n"
   ]
  },
  {
   "cell_type": "markdown",
   "id": "dbd43498",
   "metadata": {},
   "source": [
    "### Summary\n",
    "\n",
    "- We have more vehicles using regular gasoline\n",
    "- The variables show quite a high positive correlation with each other, although some of them are more correlated that the others\n",
    "- The median engine size is 3.0\n",
    "- Vehicles that use Ethanol as fuel type have the highest average fuel consumption\n",
    "- Station Wagon-Small has the lowest CO2 Emission, while Van-Passenger has the highest CO2 Emission\n",
    "- Vehicles that have engine size of <=2.0 produce about 200g/km on an average"
   ]
  },
  {
   "cell_type": "code",
   "execution_count": null,
   "id": "f1a42fb1",
   "metadata": {},
   "outputs": [],
   "source": []
  }
 ],
 "metadata": {
  "kernelspec": {
   "display_name": "Python 3 (ipykernel)",
   "language": "python",
   "name": "python3"
  },
  "language_info": {
   "codemirror_mode": {
    "name": "ipython",
    "version": 3
   },
   "file_extension": ".py",
   "mimetype": "text/x-python",
   "name": "python",
   "nbconvert_exporter": "python",
   "pygments_lexer": "ipython3",
   "version": "3.9.12"
  }
 },
 "nbformat": 4,
 "nbformat_minor": 5
}
